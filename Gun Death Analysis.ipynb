{
 "cells": [
  {
   "cell_type": "code",
   "execution_count": 1,
   "id": "23dffb77",
   "metadata": {},
   "outputs": [],
   "source": [
    "import os\n",
    "import pandas as pd\n",
    "import matplotlib.pyplot as plt"
   ]
  },
  {
   "cell_type": "code",
   "execution_count": 2,
   "id": "d7daeb79",
   "metadata": {},
   "outputs": [
    {
     "name": "stdout",
     "output_type": "stream",
     "text": [
      "['guns_2006.csv', 'guns_2007.csv', 'guns_2008.csv', 'guns_2009.csv', 'guns_2010.csv', 'guns_2011.csv', 'guns_2012.csv', 'guns_2013.csv', 'guns_2014.csv', 'guns_2015.csv', 'guns_2016.csv', 'guns_2017.csv', 'guns_2018.csv', 'guns_2019.csv', 'guns_2020.csv']\n"
     ]
    }
   ],
   "source": [
    "import os\n",
    "\n",
    "# get a list of all the CSV files in the current directory\n",
    "files = [f for f in os.listdir() if f.endswith('.csv')]\n",
    "\n",
    "print(files)\n"
   ]
  },
  {
   "cell_type": "code",
   "execution_count": 3,
   "id": "bd864349",
   "metadata": {},
   "outputs": [
    {
     "name": "stdout",
     "output_type": "stream",
     "text": [
      "       year  month    intent  police sex   age      race  hispanic  \\\n",
      "0      2006      1   Suicide       0   M  81.0     White       100   \n",
      "1      2006      1  Homicide       0   M  55.0     White       100   \n",
      "2      2006      1  Homicide       0   M  19.0     Black       100   \n",
      "3      2006      1  Homicide       0   M  33.0     Black       100   \n",
      "4      2006      1  Homicide       0   M  23.0     Black       100   \n",
      "...     ...    ...       ...     ...  ..   ...       ...       ...   \n",
      "45217  2020     12   Suicide       0   M  35.0  Hispanic       275   \n",
      "45218  2020     12  Homicide       0   M  34.0     Black       100   \n",
      "45219  2020     12  Homicide       0   M  26.0     Black       100   \n",
      "45220  2020     12  Homicide       0   M  24.0     Black       100   \n",
      "45221  2020     12  Homicide       1   M  18.0  Hispanic       299   \n",
      "\n",
      "                    place     education  \n",
      "0                    Home        HS/GED  \n",
      "1       Other unspecified  Less than HS  \n",
      "2                    Home  Less than HS  \n",
      "3       Other unspecified  Less than HS  \n",
      "4                    Home  Less than HS  \n",
      "...                   ...           ...  \n",
      "45217                Home  Some college  \n",
      "45218              Street        HS/GED  \n",
      "45219              Street        HS/GED  \n",
      "45220  Trade/service area        HS/GED  \n",
      "45221                 NaN        HS/GED  \n",
      "\n",
      "[529233 rows x 10 columns]\n"
     ]
    }
   ],
   "source": [
    "dfs = []\n",
    "\n",
    "# loop through each file and read it into a DataFrame\n",
    "for file in files:\n",
    "    df = pd.read_csv(file)\n",
    "    dfs.append(df)\n",
    "\n",
    "# concatenate all the DataFrames together\n",
    "result = pd.concat(dfs)\n",
    "\n",
    "print(result)"
   ]
  },
  {
   "cell_type": "code",
   "execution_count": 4,
   "id": "55013d2e",
   "metadata": {},
   "outputs": [
    {
     "data": {
      "text/html": [
       "<div>\n",
       "<style scoped>\n",
       "    .dataframe tbody tr th:only-of-type {\n",
       "        vertical-align: middle;\n",
       "    }\n",
       "\n",
       "    .dataframe tbody tr th {\n",
       "        vertical-align: top;\n",
       "    }\n",
       "\n",
       "    .dataframe thead th {\n",
       "        text-align: right;\n",
       "    }\n",
       "</style>\n",
       "<table border=\"1\" class=\"dataframe\">\n",
       "  <thead>\n",
       "    <tr style=\"text-align: right;\">\n",
       "      <th></th>\n",
       "      <th>year</th>\n",
       "      <th>month</th>\n",
       "      <th>intent</th>\n",
       "      <th>police</th>\n",
       "      <th>sex</th>\n",
       "      <th>age</th>\n",
       "      <th>race</th>\n",
       "      <th>hispanic</th>\n",
       "      <th>place</th>\n",
       "      <th>education</th>\n",
       "    </tr>\n",
       "  </thead>\n",
       "  <tbody>\n",
       "    <tr>\n",
       "      <th>0</th>\n",
       "      <td>2006</td>\n",
       "      <td>1</td>\n",
       "      <td>Suicide</td>\n",
       "      <td>0</td>\n",
       "      <td>M</td>\n",
       "      <td>81.0</td>\n",
       "      <td>White</td>\n",
       "      <td>100</td>\n",
       "      <td>Home</td>\n",
       "      <td>HS/GED</td>\n",
       "    </tr>\n",
       "    <tr>\n",
       "      <th>1</th>\n",
       "      <td>2006</td>\n",
       "      <td>1</td>\n",
       "      <td>Homicide</td>\n",
       "      <td>0</td>\n",
       "      <td>M</td>\n",
       "      <td>55.0</td>\n",
       "      <td>White</td>\n",
       "      <td>100</td>\n",
       "      <td>Other unspecified</td>\n",
       "      <td>Less than HS</td>\n",
       "    </tr>\n",
       "    <tr>\n",
       "      <th>2</th>\n",
       "      <td>2006</td>\n",
       "      <td>1</td>\n",
       "      <td>Homicide</td>\n",
       "      <td>0</td>\n",
       "      <td>M</td>\n",
       "      <td>19.0</td>\n",
       "      <td>Black</td>\n",
       "      <td>100</td>\n",
       "      <td>Home</td>\n",
       "      <td>Less than HS</td>\n",
       "    </tr>\n",
       "    <tr>\n",
       "      <th>3</th>\n",
       "      <td>2006</td>\n",
       "      <td>1</td>\n",
       "      <td>Homicide</td>\n",
       "      <td>0</td>\n",
       "      <td>M</td>\n",
       "      <td>33.0</td>\n",
       "      <td>Black</td>\n",
       "      <td>100</td>\n",
       "      <td>Other unspecified</td>\n",
       "      <td>Less than HS</td>\n",
       "    </tr>\n",
       "    <tr>\n",
       "      <th>4</th>\n",
       "      <td>2006</td>\n",
       "      <td>1</td>\n",
       "      <td>Homicide</td>\n",
       "      <td>0</td>\n",
       "      <td>M</td>\n",
       "      <td>23.0</td>\n",
       "      <td>Black</td>\n",
       "      <td>100</td>\n",
       "      <td>Home</td>\n",
       "      <td>Less than HS</td>\n",
       "    </tr>\n",
       "    <tr>\n",
       "      <th>...</th>\n",
       "      <td>...</td>\n",
       "      <td>...</td>\n",
       "      <td>...</td>\n",
       "      <td>...</td>\n",
       "      <td>...</td>\n",
       "      <td>...</td>\n",
       "      <td>...</td>\n",
       "      <td>...</td>\n",
       "      <td>...</td>\n",
       "      <td>...</td>\n",
       "    </tr>\n",
       "    <tr>\n",
       "      <th>45217</th>\n",
       "      <td>2020</td>\n",
       "      <td>12</td>\n",
       "      <td>Suicide</td>\n",
       "      <td>0</td>\n",
       "      <td>M</td>\n",
       "      <td>35.0</td>\n",
       "      <td>Hispanic</td>\n",
       "      <td>275</td>\n",
       "      <td>Home</td>\n",
       "      <td>Some college</td>\n",
       "    </tr>\n",
       "    <tr>\n",
       "      <th>45218</th>\n",
       "      <td>2020</td>\n",
       "      <td>12</td>\n",
       "      <td>Homicide</td>\n",
       "      <td>0</td>\n",
       "      <td>M</td>\n",
       "      <td>34.0</td>\n",
       "      <td>Black</td>\n",
       "      <td>100</td>\n",
       "      <td>Street</td>\n",
       "      <td>HS/GED</td>\n",
       "    </tr>\n",
       "    <tr>\n",
       "      <th>45219</th>\n",
       "      <td>2020</td>\n",
       "      <td>12</td>\n",
       "      <td>Homicide</td>\n",
       "      <td>0</td>\n",
       "      <td>M</td>\n",
       "      <td>26.0</td>\n",
       "      <td>Black</td>\n",
       "      <td>100</td>\n",
       "      <td>Street</td>\n",
       "      <td>HS/GED</td>\n",
       "    </tr>\n",
       "    <tr>\n",
       "      <th>45220</th>\n",
       "      <td>2020</td>\n",
       "      <td>12</td>\n",
       "      <td>Homicide</td>\n",
       "      <td>0</td>\n",
       "      <td>M</td>\n",
       "      <td>24.0</td>\n",
       "      <td>Black</td>\n",
       "      <td>100</td>\n",
       "      <td>Trade/service area</td>\n",
       "      <td>HS/GED</td>\n",
       "    </tr>\n",
       "    <tr>\n",
       "      <th>45221</th>\n",
       "      <td>2020</td>\n",
       "      <td>12</td>\n",
       "      <td>Homicide</td>\n",
       "      <td>1</td>\n",
       "      <td>M</td>\n",
       "      <td>18.0</td>\n",
       "      <td>Hispanic</td>\n",
       "      <td>299</td>\n",
       "      <td>NaN</td>\n",
       "      <td>HS/GED</td>\n",
       "    </tr>\n",
       "  </tbody>\n",
       "</table>\n",
       "<p>529233 rows × 10 columns</p>\n",
       "</div>"
      ],
      "text/plain": [
       "       year  month    intent  police sex   age      race  hispanic  \\\n",
       "0      2006      1   Suicide       0   M  81.0     White       100   \n",
       "1      2006      1  Homicide       0   M  55.0     White       100   \n",
       "2      2006      1  Homicide       0   M  19.0     Black       100   \n",
       "3      2006      1  Homicide       0   M  33.0     Black       100   \n",
       "4      2006      1  Homicide       0   M  23.0     Black       100   \n",
       "...     ...    ...       ...     ...  ..   ...       ...       ...   \n",
       "45217  2020     12   Suicide       0   M  35.0  Hispanic       275   \n",
       "45218  2020     12  Homicide       0   M  34.0     Black       100   \n",
       "45219  2020     12  Homicide       0   M  26.0     Black       100   \n",
       "45220  2020     12  Homicide       0   M  24.0     Black       100   \n",
       "45221  2020     12  Homicide       1   M  18.0  Hispanic       299   \n",
       "\n",
       "                    place     education  \n",
       "0                    Home        HS/GED  \n",
       "1       Other unspecified  Less than HS  \n",
       "2                    Home  Less than HS  \n",
       "3       Other unspecified  Less than HS  \n",
       "4                    Home  Less than HS  \n",
       "...                   ...           ...  \n",
       "45217                Home  Some college  \n",
       "45218              Street        HS/GED  \n",
       "45219              Street        HS/GED  \n",
       "45220  Trade/service area        HS/GED  \n",
       "45221                 NaN        HS/GED  \n",
       "\n",
       "[529233 rows x 10 columns]"
      ]
     },
     "execution_count": 4,
     "metadata": {},
     "output_type": "execute_result"
    }
   ],
   "source": [
    "result"
   ]
  },
  {
   "cell_type": "code",
   "execution_count": 5,
   "id": "5da5cd6c",
   "metadata": {},
   "outputs": [
    {
     "name": "stdout",
     "output_type": "stream",
     "text": [
      "<class 'pandas.core.frame.DataFrame'>\n",
      "Int64Index: 529233 entries, 0 to 45221\n",
      "Data columns (total 10 columns):\n",
      " #   Column     Non-Null Count   Dtype  \n",
      "---  ------     --------------   -----  \n",
      " 0   year       529233 non-null  int64  \n",
      " 1   month      529233 non-null  int64  \n",
      " 2   intent     529206 non-null  object \n",
      " 3   police     529233 non-null  int64  \n",
      " 4   sex        529233 non-null  object \n",
      " 5   age        529156 non-null  float64\n",
      " 6   race       529233 non-null  object \n",
      " 7   hispanic   529233 non-null  int64  \n",
      " 8   place      522573 non-null  object \n",
      " 9   education  516025 non-null  object \n",
      "dtypes: float64(1), int64(4), object(5)\n",
      "memory usage: 44.4+ MB\n"
     ]
    }
   ],
   "source": [
    "result.info()"
   ]
  },
  {
   "cell_type": "code",
   "execution_count": 24,
   "id": "a379c436",
   "metadata": {},
   "outputs": [
    {
     "data": {
      "text/plain": [
       "(529233, 10)"
      ]
     },
     "execution_count": 24,
     "metadata": {},
     "output_type": "execute_result"
    }
   ],
   "source": [
    "result.shape"
   ]
  },
  {
   "cell_type": "code",
   "execution_count": 6,
   "id": "2a173008",
   "metadata": {},
   "outputs": [
    {
     "data": {
      "text/html": [
       "<div>\n",
       "<style scoped>\n",
       "    .dataframe tbody tr th:only-of-type {\n",
       "        vertical-align: middle;\n",
       "    }\n",
       "\n",
       "    .dataframe tbody tr th {\n",
       "        vertical-align: top;\n",
       "    }\n",
       "\n",
       "    .dataframe thead th {\n",
       "        text-align: right;\n",
       "    }\n",
       "</style>\n",
       "<table border=\"1\" class=\"dataframe\">\n",
       "  <thead>\n",
       "    <tr style=\"text-align: right;\">\n",
       "      <th></th>\n",
       "      <th>year</th>\n",
       "      <th>month</th>\n",
       "      <th>intent</th>\n",
       "      <th>police</th>\n",
       "      <th>sex</th>\n",
       "      <th>age</th>\n",
       "      <th>race</th>\n",
       "      <th>hispanic</th>\n",
       "      <th>place</th>\n",
       "      <th>education</th>\n",
       "    </tr>\n",
       "  </thead>\n",
       "  <tbody>\n",
       "    <tr>\n",
       "      <th>0</th>\n",
       "      <td>False</td>\n",
       "      <td>False</td>\n",
       "      <td>False</td>\n",
       "      <td>False</td>\n",
       "      <td>False</td>\n",
       "      <td>False</td>\n",
       "      <td>False</td>\n",
       "      <td>False</td>\n",
       "      <td>False</td>\n",
       "      <td>False</td>\n",
       "    </tr>\n",
       "    <tr>\n",
       "      <th>1</th>\n",
       "      <td>False</td>\n",
       "      <td>False</td>\n",
       "      <td>False</td>\n",
       "      <td>False</td>\n",
       "      <td>False</td>\n",
       "      <td>False</td>\n",
       "      <td>False</td>\n",
       "      <td>False</td>\n",
       "      <td>False</td>\n",
       "      <td>False</td>\n",
       "    </tr>\n",
       "    <tr>\n",
       "      <th>2</th>\n",
       "      <td>False</td>\n",
       "      <td>False</td>\n",
       "      <td>False</td>\n",
       "      <td>False</td>\n",
       "      <td>False</td>\n",
       "      <td>False</td>\n",
       "      <td>False</td>\n",
       "      <td>False</td>\n",
       "      <td>False</td>\n",
       "      <td>False</td>\n",
       "    </tr>\n",
       "    <tr>\n",
       "      <th>3</th>\n",
       "      <td>False</td>\n",
       "      <td>False</td>\n",
       "      <td>False</td>\n",
       "      <td>False</td>\n",
       "      <td>False</td>\n",
       "      <td>False</td>\n",
       "      <td>False</td>\n",
       "      <td>False</td>\n",
       "      <td>False</td>\n",
       "      <td>False</td>\n",
       "    </tr>\n",
       "    <tr>\n",
       "      <th>4</th>\n",
       "      <td>False</td>\n",
       "      <td>False</td>\n",
       "      <td>False</td>\n",
       "      <td>False</td>\n",
       "      <td>False</td>\n",
       "      <td>False</td>\n",
       "      <td>False</td>\n",
       "      <td>False</td>\n",
       "      <td>False</td>\n",
       "      <td>False</td>\n",
       "    </tr>\n",
       "    <tr>\n",
       "      <th>...</th>\n",
       "      <td>...</td>\n",
       "      <td>...</td>\n",
       "      <td>...</td>\n",
       "      <td>...</td>\n",
       "      <td>...</td>\n",
       "      <td>...</td>\n",
       "      <td>...</td>\n",
       "      <td>...</td>\n",
       "      <td>...</td>\n",
       "      <td>...</td>\n",
       "    </tr>\n",
       "    <tr>\n",
       "      <th>45217</th>\n",
       "      <td>False</td>\n",
       "      <td>False</td>\n",
       "      <td>False</td>\n",
       "      <td>False</td>\n",
       "      <td>False</td>\n",
       "      <td>False</td>\n",
       "      <td>False</td>\n",
       "      <td>False</td>\n",
       "      <td>False</td>\n",
       "      <td>False</td>\n",
       "    </tr>\n",
       "    <tr>\n",
       "      <th>45218</th>\n",
       "      <td>False</td>\n",
       "      <td>False</td>\n",
       "      <td>False</td>\n",
       "      <td>False</td>\n",
       "      <td>False</td>\n",
       "      <td>False</td>\n",
       "      <td>False</td>\n",
       "      <td>False</td>\n",
       "      <td>False</td>\n",
       "      <td>False</td>\n",
       "    </tr>\n",
       "    <tr>\n",
       "      <th>45219</th>\n",
       "      <td>False</td>\n",
       "      <td>False</td>\n",
       "      <td>False</td>\n",
       "      <td>False</td>\n",
       "      <td>False</td>\n",
       "      <td>False</td>\n",
       "      <td>False</td>\n",
       "      <td>False</td>\n",
       "      <td>False</td>\n",
       "      <td>False</td>\n",
       "    </tr>\n",
       "    <tr>\n",
       "      <th>45220</th>\n",
       "      <td>False</td>\n",
       "      <td>False</td>\n",
       "      <td>False</td>\n",
       "      <td>False</td>\n",
       "      <td>False</td>\n",
       "      <td>False</td>\n",
       "      <td>False</td>\n",
       "      <td>False</td>\n",
       "      <td>False</td>\n",
       "      <td>False</td>\n",
       "    </tr>\n",
       "    <tr>\n",
       "      <th>45221</th>\n",
       "      <td>False</td>\n",
       "      <td>False</td>\n",
       "      <td>False</td>\n",
       "      <td>False</td>\n",
       "      <td>False</td>\n",
       "      <td>False</td>\n",
       "      <td>False</td>\n",
       "      <td>False</td>\n",
       "      <td>True</td>\n",
       "      <td>False</td>\n",
       "    </tr>\n",
       "  </tbody>\n",
       "</table>\n",
       "<p>529233 rows × 10 columns</p>\n",
       "</div>"
      ],
      "text/plain": [
       "        year  month  intent  police    sex    age   race  hispanic  place  \\\n",
       "0      False  False   False   False  False  False  False     False  False   \n",
       "1      False  False   False   False  False  False  False     False  False   \n",
       "2      False  False   False   False  False  False  False     False  False   \n",
       "3      False  False   False   False  False  False  False     False  False   \n",
       "4      False  False   False   False  False  False  False     False  False   \n",
       "...      ...    ...     ...     ...    ...    ...    ...       ...    ...   \n",
       "45217  False  False   False   False  False  False  False     False  False   \n",
       "45218  False  False   False   False  False  False  False     False  False   \n",
       "45219  False  False   False   False  False  False  False     False  False   \n",
       "45220  False  False   False   False  False  False  False     False  False   \n",
       "45221  False  False   False   False  False  False  False     False   True   \n",
       "\n",
       "       education  \n",
       "0          False  \n",
       "1          False  \n",
       "2          False  \n",
       "3          False  \n",
       "4          False  \n",
       "...          ...  \n",
       "45217      False  \n",
       "45218      False  \n",
       "45219      False  \n",
       "45220      False  \n",
       "45221      False  \n",
       "\n",
       "[529233 rows x 10 columns]"
      ]
     },
     "execution_count": 6,
     "metadata": {},
     "output_type": "execute_result"
    }
   ],
   "source": [
    "result.isna()"
   ]
  },
  {
   "cell_type": "code",
   "execution_count": 7,
   "id": "239fe966",
   "metadata": {},
   "outputs": [
    {
     "data": {
      "text/html": [
       "<div>\n",
       "<style scoped>\n",
       "    .dataframe tbody tr th:only-of-type {\n",
       "        vertical-align: middle;\n",
       "    }\n",
       "\n",
       "    .dataframe tbody tr th {\n",
       "        vertical-align: top;\n",
       "    }\n",
       "\n",
       "    .dataframe thead th {\n",
       "        text-align: right;\n",
       "    }\n",
       "</style>\n",
       "<table border=\"1\" class=\"dataframe\">\n",
       "  <thead>\n",
       "    <tr style=\"text-align: right;\">\n",
       "      <th></th>\n",
       "      <th>year</th>\n",
       "      <th>month</th>\n",
       "      <th>police</th>\n",
       "      <th>age</th>\n",
       "      <th>hispanic</th>\n",
       "    </tr>\n",
       "  </thead>\n",
       "  <tbody>\n",
       "    <tr>\n",
       "      <th>count</th>\n",
       "      <td>529233.000000</td>\n",
       "      <td>529233.000000</td>\n",
       "      <td>529233.000000</td>\n",
       "      <td>529156.000000</td>\n",
       "      <td>529233.000000</td>\n",
       "    </tr>\n",
       "    <tr>\n",
       "      <th>mean</th>\n",
       "      <td>2013.480724</td>\n",
       "      <td>6.569454</td>\n",
       "      <td>0.012824</td>\n",
       "      <td>42.918429</td>\n",
       "      <td>115.337774</td>\n",
       "    </tr>\n",
       "    <tr>\n",
       "      <th>std</th>\n",
       "      <td>4.359197</td>\n",
       "      <td>3.400949</td>\n",
       "      <td>0.112516</td>\n",
       "      <td>19.485696</td>\n",
       "      <td>61.992719</td>\n",
       "    </tr>\n",
       "    <tr>\n",
       "      <th>min</th>\n",
       "      <td>2006.000000</td>\n",
       "      <td>1.000000</td>\n",
       "      <td>0.000000</td>\n",
       "      <td>0.000000</td>\n",
       "      <td>100.000000</td>\n",
       "    </tr>\n",
       "    <tr>\n",
       "      <th>25%</th>\n",
       "      <td>2010.000000</td>\n",
       "      <td>4.000000</td>\n",
       "      <td>0.000000</td>\n",
       "      <td>26.000000</td>\n",
       "      <td>100.000000</td>\n",
       "    </tr>\n",
       "    <tr>\n",
       "      <th>50%</th>\n",
       "      <td>2014.000000</td>\n",
       "      <td>7.000000</td>\n",
       "      <td>0.000000</td>\n",
       "      <td>40.000000</td>\n",
       "      <td>100.000000</td>\n",
       "    </tr>\n",
       "    <tr>\n",
       "      <th>75%</th>\n",
       "      <td>2017.000000</td>\n",
       "      <td>9.000000</td>\n",
       "      <td>0.000000</td>\n",
       "      <td>57.000000</td>\n",
       "      <td>100.000000</td>\n",
       "    </tr>\n",
       "    <tr>\n",
       "      <th>max</th>\n",
       "      <td>2020.000000</td>\n",
       "      <td>12.000000</td>\n",
       "      <td>1.000000</td>\n",
       "      <td>109.000000</td>\n",
       "      <td>998.000000</td>\n",
       "    </tr>\n",
       "  </tbody>\n",
       "</table>\n",
       "</div>"
      ],
      "text/plain": [
       "                year          month         police            age  \\\n",
       "count  529233.000000  529233.000000  529233.000000  529156.000000   \n",
       "mean     2013.480724       6.569454       0.012824      42.918429   \n",
       "std         4.359197       3.400949       0.112516      19.485696   \n",
       "min      2006.000000       1.000000       0.000000       0.000000   \n",
       "25%      2010.000000       4.000000       0.000000      26.000000   \n",
       "50%      2014.000000       7.000000       0.000000      40.000000   \n",
       "75%      2017.000000       9.000000       0.000000      57.000000   \n",
       "max      2020.000000      12.000000       1.000000     109.000000   \n",
       "\n",
       "            hispanic  \n",
       "count  529233.000000  \n",
       "mean      115.337774  \n",
       "std        61.992719  \n",
       "min       100.000000  \n",
       "25%       100.000000  \n",
       "50%       100.000000  \n",
       "75%       100.000000  \n",
       "max       998.000000  "
      ]
     },
     "execution_count": 7,
     "metadata": {},
     "output_type": "execute_result"
    }
   ],
   "source": [
    "result.describe()"
   ]
  },
  {
   "cell_type": "code",
   "execution_count": 8,
   "id": "d40fea22",
   "metadata": {},
   "outputs": [
    {
     "data": {
      "text/plain": [
       "0        2006\n",
       "1        2006\n",
       "2        2006\n",
       "3        2006\n",
       "4        2006\n",
       "         ... \n",
       "45217    2020\n",
       "45218    2020\n",
       "45219    2020\n",
       "45220    2020\n",
       "45221    2020\n",
       "Name: year, Length: 529233, dtype: int64"
      ]
     },
     "execution_count": 8,
     "metadata": {},
     "output_type": "execute_result"
    }
   ],
   "source": [
    "# create a list of unique values from the year column\n",
    "result['year']\n"
   ]
  },
  {
   "cell_type": "code",
   "execution_count": 9,
   "id": "27d44481",
   "metadata": {},
   "outputs": [
    {
     "data": {
      "image/png": "[encoded data removed]",
      "text/plain": [
       "<Figure size 432x288 with 1 Axes>"
      ]
     },
     "metadata": {
      "needs_background": "light"
     },
     "output_type": "display_data"
    }
   ],
   "source": [
    "\n",
    "# Group by year and count occurrences\n",
    "yearly_count = result['year'].value_counts().sort_index()\n",
    "\n",
    "# Plot the yearly count in a bar graph\n",
    "plt.bar(yearly_count.index, yearly_count.values)\n",
    "plt.xlabel('Year')\n",
    "plt.ylabel('Count')\n",
    "plt.title('Yearly Count')\n",
    "\n",
    "# Add count values as text annotations\n",
    "for i, count in enumerate(yearly_count.values):\n",
    "    plt.text(yearly_count.index[i], count.item(), str(count.item()), ha='center', va='bottom')\n",
    "\n",
    "plt.show()"
   ]
  },
  {
   "cell_type": "code",
   "execution_count": 10,
   "id": "fdca702b",
   "metadata": {},
   "outputs": [
    {
     "data": {
      "text/plain": [
       "0              HS/GED\n",
       "1        Less than HS\n",
       "2        Less than HS\n",
       "3        Less than HS\n",
       "4        Less than HS\n",
       "             ...     \n",
       "45217    Some college\n",
       "45218          HS/GED\n",
       "45219          HS/GED\n",
       "45220          HS/GED\n",
       "45221          HS/GED\n",
       "Name: education, Length: 529233, dtype: object"
      ]
     },
     "execution_count": 10,
     "metadata": {},
     "output_type": "execute_result"
    }
   ],
   "source": [
    "# create a list of unique values from the year column\n",
    "result['education']"
   ]
  },
  {
   "cell_type": "code",
   "execution_count": 25,
   "id": "e779f0d2",
   "metadata": {},
   "outputs": [
    {
     "name": "stdout",
     "output_type": "stream",
     "text": [
      "HS/GED          226373\n",
      "Less than HS    119411\n",
      "Some college    107123\n",
      "BA+              63118\n",
      "Name: education, dtype: int64\n"
     ]
    },
    {
     "data": {
      "image/png": "[encoded data removed]",
      "text/plain": [
       "<Figure size 432x288 with 1 Axes>"
      ]
     },
     "metadata": {
      "needs_background": "light"
     },
     "output_type": "display_data"
    }
   ],
   "source": [
    "# Perform count of occurrences by education\n",
    "count_by_education = result['education'].value_counts()\n",
    "print(count_by_education)\n",
    "\n",
    "# Plot the count by education in a bar graph\n",
    "plt.bar(count_by_education.index, count_by_education.values)\n",
    "plt.xlabel(\"Education\")\n",
    "plt.ylabel(\"Count\")\n",
    "plt.title(\"Gun Shot by Educational Categories\", fontweight='bold')\n",
    "plt.xticks(rotation=45)  # Rotate x-axis labels if needed\n",
    "\n",
    "# Add count values as text annotations\n",
    "for i, count in enumerate(count_by_education.values):\n",
    "    plt.text(i, count, str(count), ha='center', va='bottom')\n",
    "\n",
    "plt.show()"
   ]
  },
  {
   "cell_type": "code",
   "execution_count": 12,
   "id": "9244e5e1",
   "metadata": {},
   "outputs": [
    {
     "name": "stdout",
     "output_type": "stream",
     "text": [
      "Home                       295079\n",
      "Other specified             72357\n",
      "Other unspecified           67542\n",
      "Street                      60779\n",
      "Trade/service area          17838\n",
      "School/instiution            3245\n",
      "Farm                         2337\n",
      "Industrial/construction      1376\n",
      "Residential institution      1344\n",
      "Sports                        676\n",
      "Name: place, dtype: int64\n"
     ]
    },
    {
     "data": {
      "image/png": "[encoded data removed]",
      "text/plain": [
       "<Figure size 432x288 with 1 Axes>"
      ]
     },
     "metadata": {
      "needs_background": "light"
     },
     "output_type": "display_data"
    }
   ],
   "source": [
    "# Frequency of place where gun shoot happens\n",
    "count_by_place = result['place'].value_counts()\n",
    "print(count_by_place)\n",
    "\n",
    "# Plot the count by place in a bar graph\n",
    "plt.bar(count_by_place.index, count_by_place.values)\n",
    "plt.xlabel(\"Place\")\n",
    "plt.ylabel(\"Count Value\")\n",
    "plt.title(\"Gun Shot Place\", fontweight='bold')\n",
    "plt.xticks(rotation=45)\n",
    "\n",
    "# Add count values as text annotations\n",
    "for i, count in enumerate(count_by_place.values):\n",
    "    plt.text(i, count, str(count), ha='center', va='bottom')\n",
    "\n",
    "plt.show()"
   ]
  },
  {
   "cell_type": "code",
   "execution_count": 13,
   "id": "9568c488",
   "metadata": {},
   "outputs": [
    {
     "name": "stdout",
     "output_type": "stream",
     "text": [
      "M    454524\n",
      "F     74709\n",
      "Name: sex, dtype: int64\n"
     ]
    },
    {
     "data": {
      "image/png": "[encoded data removed]",
      "text/plain": [
       "<Figure size 432x288 with 1 Axes>"
      ]
     },
     "metadata": {
      "needs_background": "light"
     },
     "output_type": "display_data"
    }
   ],
   "source": [
    "# Frequency of gender perform gun shoot\n",
    "gender_count = result['sex'].value_counts()\n",
    "print(gender_count)\n",
    "\n",
    "plt.bar(gender_count.index, gender_count.values)\n",
    "plt.xlabel(\"Gender\")\n",
    "plt.ylabel(\"count\")\n",
    "plt.title(\"Gun Shoot by Gender\", fontweight='bold')\n",
    "\n",
    "for i, count in enumerate(gender_count):\n",
    "    plt.text(i, count, str(count), ha='center', va='bottom')\n",
    "plt.show()"
   ]
  },
  {
   "cell_type": "code",
   "execution_count": 14,
   "id": "e8790a33",
   "metadata": {},
   "outputs": [
    {
     "data": {
      "image/png": "[encoded data removed]",
      "text/plain": [
       "<Figure size 576x432 with 1 Axes>"
      ]
     },
     "metadata": {
      "needs_background": "light"
     },
     "output_type": "display_data"
    }
   ],
   "source": [
    "# Frequency table for intent\n",
    "intent_counts = result['intent'].value_counts()\n",
    "\n",
    "# Bar plot for intent\n",
    "plt.figure(figsize=(8, 6))\n",
    "plt.bar(intent_counts.index, intent_counts.values)\n",
    "plt.xlabel('Intent')\n",
    "plt.ylabel('Count')\n",
    "plt.title('Distribution of Intent', fontweight='bold')\n",
    "plt.show()\n"
   ]
  },
  {
   "cell_type": "code",
   "execution_count": 15,
   "id": "5d08d79b",
   "metadata": {},
   "outputs": [
    {
     "data": {
      "image/png": "[encoded data removed]",
      "text/plain": [
       "<Figure size 576x432 with 1 Axes>"
      ]
     },
     "metadata": {
      "needs_background": "light"
     },
     "output_type": "display_data"
    }
   ],
   "source": [
    "\n",
    "# Frequency table for race\n",
    "race_counts = result['race'].value_counts()\n",
    "\n",
    "# Bar plot for race\n",
    "plt.figure(figsize=(8, 6))\n",
    "plt.bar(race_counts.index, race_counts.values)\n",
    "plt.xlabel('Race')\n",
    "plt.ylabel('Count')\n",
    "plt.title('Distribution of Race', fontweight='bold')\n",
    "plt.show()\n"
   ]
  },
  {
   "cell_type": "code",
   "execution_count": 16,
   "id": "281ca122",
   "metadata": {},
   "outputs": [
    {
     "data": {
      "text/html": [
       "<div>\n",
       "<style scoped>\n",
       "    .dataframe tbody tr th:only-of-type {\n",
       "        vertical-align: middle;\n",
       "    }\n",
       "\n",
       "    .dataframe tbody tr th {\n",
       "        vertical-align: top;\n",
       "    }\n",
       "\n",
       "    .dataframe thead th {\n",
       "        text-align: right;\n",
       "    }\n",
       "</style>\n",
       "<table border=\"1\" class=\"dataframe\">\n",
       "  <thead>\n",
       "    <tr style=\"text-align: right;\">\n",
       "      <th>intent</th>\n",
       "      <th>Accidental</th>\n",
       "      <th>Homicide</th>\n",
       "      <th>Suicide</th>\n",
       "      <th>Undetermined</th>\n",
       "    </tr>\n",
       "    <tr>\n",
       "      <th>race</th>\n",
       "      <th></th>\n",
       "      <th></th>\n",
       "      <th></th>\n",
       "      <th></th>\n",
       "    </tr>\n",
       "  </thead>\n",
       "  <tbody>\n",
       "    <tr>\n",
       "      <th>Asian/Pacific Islander</th>\n",
       "      <td>88</td>\n",
       "      <td>3204</td>\n",
       "      <td>4035</td>\n",
       "      <td>55</td>\n",
       "    </tr>\n",
       "    <tr>\n",
       "      <th>Black</th>\n",
       "      <td>1657</td>\n",
       "      <td>112328</td>\n",
       "      <td>18445</td>\n",
       "      <td>808</td>\n",
       "    </tr>\n",
       "    <tr>\n",
       "      <th>Hispanic</th>\n",
       "      <td>767</td>\n",
       "      <td>33738</td>\n",
       "      <td>17468</td>\n",
       "      <td>470</td>\n",
       "    </tr>\n",
       "    <tr>\n",
       "      <th>Native American/Native Alaskan</th>\n",
       "      <td>140</td>\n",
       "      <td>2018</td>\n",
       "      <td>2741</td>\n",
       "      <td>87</td>\n",
       "    </tr>\n",
       "    <tr>\n",
       "      <th>White</th>\n",
       "      <td>5534</td>\n",
       "      <td>50180</td>\n",
       "      <td>272536</td>\n",
       "      <td>2907</td>\n",
       "    </tr>\n",
       "  </tbody>\n",
       "</table>\n",
       "</div>"
      ],
      "text/plain": [
       "intent                          Accidental  Homicide  Suicide  Undetermined\n",
       "race                                                                       \n",
       "Asian/Pacific Islander                  88      3204     4035            55\n",
       "Black                                 1657    112328    18445           808\n",
       "Hispanic                               767     33738    17468           470\n",
       "Native American/Native Alaskan         140      2018     2741            87\n",
       "White                                 5534     50180   272536          2907"
      ]
     },
     "execution_count": 16,
     "metadata": {},
     "output_type": "execute_result"
    }
   ],
   "source": [
    "# Create a cross-tabulation of race and intent\n",
    "matrix_relation = pd.crosstab(result['race'], result['intent'])\n",
    "\n",
    "# Show the matrix relation\n",
    "matrix_relation"
   ]
  },
  {
   "cell_type": "code",
   "execution_count": 17,
   "id": "1a350434",
   "metadata": {},
   "outputs": [],
   "source": [
    "# !pip install seaborn"
   ]
  },
  {
   "cell_type": "code",
   "execution_count": 18,
   "id": "305e2309",
   "metadata": {},
   "outputs": [
    {
     "name": "stderr",
     "output_type": "stream",
     "text": [
      "C:\\Users\\FCT\\anaconda3\\lib\\site-packages\\scipy\\__init__.py:138: UserWarning: A NumPy version >=1.16.5 and <1.23.0 is required for this version of SciPy (detected version 1.24.3)\n",
      "  warnings.warn(f\"A NumPy version >={np_minversion} and <{np_maxversion} is required for this version of \"\n"
     ]
    },
    {
     "data": {
      "image/png": "[encoded data removed]",
      "text/plain": [
       "<Figure size 720x576 with 2 Axes>"
      ]
     },
     "metadata": {
      "needs_background": "light"
     },
     "output_type": "display_data"
    }
   ],
   "source": [
    "import seaborn as sns\n",
    "\n",
    "# Create a heatmap\n",
    "plt.figure(figsize=(10, 8))\n",
    "sns.heatmap(matrix_relation, cmap='YlOrRd', annot=True, fmt='d')\n",
    "plt.xlabel('Intent', fontweight='bold', fontsize='18')\n",
    "plt.ylabel('Race', fontweight='bold', fontsize='18')\n",
    "plt.title('Matrix Relation: Race vs Intent')\n",
    "plt.show()"
   ]
  },
  {
   "cell_type": "code",
   "execution_count": 22,
   "id": "a8b32dea",
   "metadata": {},
   "outputs": [
    {
     "name": "stdout",
     "output_type": "stream",
     "text": [
      "Chi-square statistic: 211992.03572259643\n",
      "p-value: 0.0\n",
      "Degrees of freedom: 12\n",
      "Expected frequencies:\n",
      "[[1.14188146e+02 2.81031730e+03 4.39713637e+03 6.03581857e+01]\n",
      " [2.06098621e+03 5.07235243e+04 7.93640823e+04 1.08940720e+03]\n",
      " [8.11212265e+02 1.99649783e+04 3.12380144e+04 4.28794951e+02]\n",
      " [7.71257242e+01 1.89816338e+03 2.96994337e+03 4.07675310e+01]\n",
      " [5.12248766e+03 1.26071017e+05 1.97255823e+05 2.70767213e+03]]\n"
     ]
    }
   ],
   "source": [
    "from scipy.stats import chi2_contingency\n",
    "\n",
    "# Perform chi-square test of independence\n",
    "chi2, p_value, dof, expected = chi2_contingency(matrix_relation)\n",
    "\n",
    "# Print the results\n",
    "print(\"Chi-square statistic:\", chi2)\n",
    "print(\"p-value:\", p_value)\n",
    "print(\"Degrees of freedom:\", dof)\n",
    "print(\"Expected frequencies:\")\n",
    "print(expected)"
   ]
  },
  {
   "cell_type": "markdown",
   "id": "a226c387",
   "metadata": {},
   "source": [
    "# From above analysis, the hypothesis testing of "
   ]
  },
  {
   "cell_type": "code",
   "execution_count": 19,
   "id": "f801736b",
   "metadata": {},
   "outputs": [
    {
     "name": "stdout",
     "output_type": "stream",
     "text": [
      "22.0     13673\n",
      "21.0     13536\n",
      "23.0     13479\n",
      "24.0     13019\n",
      "25.0     12772\n",
      "         ...  \n",
      "109.0        1\n",
      "104.0        1\n",
      "107.0        1\n",
      "105.0        1\n",
      "106.0        1\n",
      "Name: age, Length: 109, dtype: int64\n"
     ]
    },
    {
     "data": {
      "image/png": "[encoded data removed]",
      "text/plain": [
       "<Figure size 432x288 with 1 Axes>"
      ]
     },
     "metadata": {
      "needs_background": "light"
     },
     "output_type": "display_data"
    }
   ],
   "source": [
    "age_count = result['age'].value_counts()\n",
    "print(age_count)\n",
    "\n",
    "# Scatter plot of age count\n",
    "plt.scatter(age_count.index, age_count.values)\n",
    "plt.xlabel(\"Age\")\n",
    "plt.ylabel(\"Count\")\n",
    "plt.title(\"Age distribution perform gun shoot\", fontweight='bold')\n",
    "\n",
    "max_count_age_group = age_count.idxmax()\n",
    "\n",
    "# Annotate the age group with the highest count\n",
    "plt.annotate(f'Highest Count: {max_count_age_group}', \n",
    "             xy=(max_count_age_group, age_count[max_count_age_group]),\n",
    "             xytext=(max_count_age_group, age_count[max_count_age_group] + 100),\n",
    "             arrowprops=dict(facecolor='black', arrowstyle='->'),\n",
    "             ha='center')\n",
    "\n",
    "\n",
    "plt.show()\n"
   ]
  },
  {
   "cell_type": "markdown",
   "id": "38056193",
   "metadata": {},
   "source": [
    "# The analysis of above cell shows that the gun shoot death in different age where the illustration says that there was high frequency of gun shoot happens in age from teen age to early 20s in a exponential ways after that the graph seems decline"
   ]
  },
  {
   "cell_type": "code",
   "execution_count": null,
   "id": "73747a34",
   "metadata": {},
   "outputs": [],
   "source": [
    "# Show which age range have highest number of gun shoot"
   ]
  },
  {
   "cell_type": "code",
   "execution_count": null,
   "id": "49dc9b10",
   "metadata": {},
   "outputs": [],
   "source": [
    "# Formulate Hypothesis\n",
    "\n",
    "# H0 :  "
   ]
  }
 ],
 "metadata": {
  "kernelspec": {
   "display_name": "Python 3 (ipykernel)",
   "language": "python",
   "name": "python3"
  },
  "language_info": {
   "codemirror_mode": {
    "name": "ipython",
    "version": 3
   },
   "file_extension": ".py",
   "mimetype": "text/x-python",
   "name": "python",
   "nbconvert_exporter": "python",
   "pygments_lexer": "ipython3",
   "version": "3.9.7"
  }
 },
 "nbformat": 4,
 "nbformat_minor": 5
}
